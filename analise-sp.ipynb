{
 "cells": [
  {
   "cell_type": "code",
   "execution_count": 128,
   "id": "8b5c9667",
   "metadata": {},
   "outputs": [
    {
     "data": {
      "text/html": [
       "<div>\n",
       "<style scoped>\n",
       "    .dataframe tbody tr th:only-of-type {\n",
       "        vertical-align: middle;\n",
       "    }\n",
       "\n",
       "    .dataframe tbody tr th {\n",
       "        vertical-align: top;\n",
       "    }\n",
       "\n",
       "    .dataframe thead th {\n",
       "        text-align: right;\n",
       "    }\n",
       "</style>\n",
       "<table border=\"1\" class=\"dataframe\">\n",
       "  <thead>\n",
       "    <tr style=\"text-align: right;\">\n",
       "      <th></th>\n",
       "      <th>Rua</th>\n",
       "      <th>Bairro</th>\n",
       "      <th>Cidade</th>\n",
       "      <th>Metragem</th>\n",
       "      <th>Quartos</th>\n",
       "      <th>Banheiros</th>\n",
       "      <th>Vagas</th>\n",
       "      <th>Valor</th>\n",
       "    </tr>\n",
       "  </thead>\n",
       "  <tbody>\n",
       "    <tr>\n",
       "      <th>0</th>\n",
       "      <td>Avenida Itacira, 255</td>\n",
       "      <td>Planalto Paulista</td>\n",
       "      <td>São Paulo</td>\n",
       "      <td>1000</td>\n",
       "      <td>4</td>\n",
       "      <td>8</td>\n",
       "      <td>6</td>\n",
       "      <td>R$ 7.000.000</td>\n",
       "    </tr>\n",
       "    <tr>\n",
       "      <th>1</th>\n",
       "      <td>Rua Aurelia Perez Alvarez, 42</td>\n",
       "      <td>Jardim dos Estados</td>\n",
       "      <td>São Paulo</td>\n",
       "      <td>496</td>\n",
       "      <td>4</td>\n",
       "      <td>4</td>\n",
       "      <td>4</td>\n",
       "      <td>R$ 3.700.000</td>\n",
       "    </tr>\n",
       "    <tr>\n",
       "      <th>2</th>\n",
       "      <td>Rua Alba Valdez</td>\n",
       "      <td>Jardim Reimberg</td>\n",
       "      <td>São Paulo</td>\n",
       "      <td>125</td>\n",
       "      <td>4</td>\n",
       "      <td>3</td>\n",
       "      <td>2</td>\n",
       "      <td>R$ 380.000</td>\n",
       "    </tr>\n",
       "    <tr>\n",
       "      <th>3</th>\n",
       "      <td>NaN</td>\n",
       "      <td>Jardim Morumbi</td>\n",
       "      <td>São Paulo</td>\n",
       "      <td>310</td>\n",
       "      <td>3</td>\n",
       "      <td>2</td>\n",
       "      <td>4</td>\n",
       "      <td>R$ 685.000</td>\n",
       "    </tr>\n",
       "    <tr>\n",
       "      <th>4</th>\n",
       "      <td>Rua Tobias Barreto, 195</td>\n",
       "      <td>Mooca</td>\n",
       "      <td>São Paulo</td>\n",
       "      <td>100</td>\n",
       "      <td>3</td>\n",
       "      <td>2</td>\n",
       "      <td>2</td>\n",
       "      <td>R$ 540.000</td>\n",
       "    </tr>\n",
       "  </tbody>\n",
       "</table>\n",
       "</div>"
      ],
      "text/plain": [
       "                              Rua              Bairro     Cidade  Metragem  \\\n",
       "0           Avenida Itacira, 255    Planalto Paulista  São Paulo      1000   \n",
       "1  Rua Aurelia Perez Alvarez, 42   Jardim dos Estados  São Paulo       496   \n",
       "2                 Rua Alba Valdez     Jardim Reimberg  São Paulo       125   \n",
       "3                             NaN      Jardim Morumbi  São Paulo       310   \n",
       "4        Rua Tobias Barreto, 195                Mooca  São Paulo       100   \n",
       "\n",
       "   Quartos  Banheiros  Vagas         Valor  \n",
       "0        4          8      6  R$ 7.000.000  \n",
       "1        4          4      4  R$ 3.700.000  \n",
       "2        4          3      2    R$ 380.000  \n",
       "3        3          2      4    R$ 685.000  \n",
       "4        3          2      2    R$ 540.000  "
      ]
     },
     "execution_count": 128,
     "metadata": {},
     "output_type": "execute_result"
    }
   ],
   "source": [
    "import pandas as pd\n",
    "import matplotlib.pyplot as plt\n",
    "\n",
    "dados = pd.read_csv(\"/workspaces/Alura-analise-dados-sp/datasets/dados_imoveis.csv\")\n",
    "dados.head()"
   ]
  },
  {
   "cell_type": "code",
   "execution_count": 132,
   "id": "a5fee41f",
   "metadata": {},
   "outputs": [
    {
     "data": {
      "text/html": [
       "<div>\n",
       "<style scoped>\n",
       "    .dataframe tbody tr th:only-of-type {\n",
       "        vertical-align: middle;\n",
       "    }\n",
       "\n",
       "    .dataframe tbody tr th {\n",
       "        vertical-align: top;\n",
       "    }\n",
       "\n",
       "    .dataframe thead th {\n",
       "        text-align: right;\n",
       "    }\n",
       "</style>\n",
       "<table border=\"1\" class=\"dataframe\">\n",
       "  <thead>\n",
       "    <tr style=\"text-align: right;\">\n",
       "      <th></th>\n",
       "      <th>Rua</th>\n",
       "      <th>Bairro</th>\n",
       "      <th>Cidade</th>\n",
       "      <th>Metragem</th>\n",
       "      <th>Quartos</th>\n",
       "      <th>Banheiros</th>\n",
       "      <th>Vagas</th>\n",
       "      <th>Valor</th>\n",
       "      <th>Classe</th>\n",
       "    </tr>\n",
       "  </thead>\n",
       "  <tbody>\n",
       "    <tr>\n",
       "      <th>0</th>\n",
       "      <td>Avenida Itacira, 255</td>\n",
       "      <td>Planalto Paulista</td>\n",
       "      <td>São Paulo</td>\n",
       "      <td>1000</td>\n",
       "      <td>4</td>\n",
       "      <td>8</td>\n",
       "      <td>6</td>\n",
       "      <td>70000000.0</td>\n",
       "      <td>Classe Alta</td>\n",
       "    </tr>\n",
       "    <tr>\n",
       "      <th>1</th>\n",
       "      <td>Rua Aurelia Perez Alvarez, 42</td>\n",
       "      <td>Jardim dos Estados</td>\n",
       "      <td>São Paulo</td>\n",
       "      <td>496</td>\n",
       "      <td>4</td>\n",
       "      <td>4</td>\n",
       "      <td>4</td>\n",
       "      <td>37000000.0</td>\n",
       "      <td>Classe Alta</td>\n",
       "    </tr>\n",
       "    <tr>\n",
       "      <th>2</th>\n",
       "      <td>Rua Alba Valdez</td>\n",
       "      <td>Jardim Reimberg</td>\n",
       "      <td>São Paulo</td>\n",
       "      <td>125</td>\n",
       "      <td>4</td>\n",
       "      <td>3</td>\n",
       "      <td>2</td>\n",
       "      <td>3800000.0</td>\n",
       "      <td>Classe Alta</td>\n",
       "    </tr>\n",
       "    <tr>\n",
       "      <th>3</th>\n",
       "      <td>NaN</td>\n",
       "      <td>Jardim Morumbi</td>\n",
       "      <td>São Paulo</td>\n",
       "      <td>310</td>\n",
       "      <td>3</td>\n",
       "      <td>2</td>\n",
       "      <td>4</td>\n",
       "      <td>6850000.0</td>\n",
       "      <td>Classe Alta</td>\n",
       "    </tr>\n",
       "    <tr>\n",
       "      <th>4</th>\n",
       "      <td>Rua Tobias Barreto, 195</td>\n",
       "      <td>Mooca</td>\n",
       "      <td>São Paulo</td>\n",
       "      <td>100</td>\n",
       "      <td>3</td>\n",
       "      <td>2</td>\n",
       "      <td>2</td>\n",
       "      <td>5400000.0</td>\n",
       "      <td>Classe Alta</td>\n",
       "    </tr>\n",
       "  </tbody>\n",
       "</table>\n",
       "</div>"
      ],
      "text/plain": [
       "                              Rua              Bairro     Cidade  Metragem  \\\n",
       "0           Avenida Itacira, 255    Planalto Paulista  São Paulo      1000   \n",
       "1  Rua Aurelia Perez Alvarez, 42   Jardim dos Estados  São Paulo       496   \n",
       "2                 Rua Alba Valdez     Jardim Reimberg  São Paulo       125   \n",
       "3                             NaN      Jardim Morumbi  São Paulo       310   \n",
       "4        Rua Tobias Barreto, 195                Mooca  São Paulo       100   \n",
       "\n",
       "   Quartos  Banheiros  Vagas       Valor       Classe  \n",
       "0        4          8      6  70000000.0  Classe Alta  \n",
       "1        4          4      4  37000000.0  Classe Alta  \n",
       "2        4          3      2   3800000.0  Classe Alta  \n",
       "3        3          2      4   6850000.0  Classe Alta  \n",
       "4        3          2      2   5400000.0  Classe Alta  "
      ]
     },
     "execution_count": 132,
     "metadata": {},
     "output_type": "execute_result"
    }
   ],
   "source": [
    "#Tratando valores\n",
    "# estou alterando a coluna valor, ela possui caracteres que não podem ser feito quaisquer calculos.\n",
    "dados['Valor'] = dados['Valor'].astype(str).replace('[^\\d.]', '', regex=True).str.replace('.', '').astype(float)\n",
    "\n",
    "# Adicionando nova coluna para termos as classes. - Definindo as etiquetas para cada classe\n",
    "limites_classe = [0, 500000, 1000000, 1500000, float('inf')]\n",
    "etiquetas_classe = ['Classe Baixa', 'Classe Média Baixa', 'Classe Média Alta', 'Classe Alta']\n",
    "\n",
    "# Criando a nova coluna 'Classe'\n",
    "dados['Classe'] = pd.cut(dados['Valor'], bins=limites_classe, labels=etiquetas_classe)\n",
    "dados.head()"
   ]
  },
  {
   "cell_type": "code",
   "execution_count": 158,
   "id": "11c2dbfa",
   "metadata": {},
   "outputs": [
    {
     "name": "stdout",
     "output_type": "stream",
     "text": [
      "               Classe  Quantidade Porcentagem\n",
      "0         Classe Alta        9151      91.44%\n",
      "1        Classe Baixa         811       8.10%\n",
      "2  Classe Média Baixa          42       0.42%\n",
      "3   Classe Média Alta           4       0.04%\n"
     ]
    }
   ],
   "source": [
    "tabela_descritiva = dados['Classe'].value_counts().reset_index()\n",
    "#reset_index() a coluna se torna índice e o nosso foco é ser uma coluna regular do DataFrame, pois podemos tratar como uma coluna normal e não uma parte do índice\n",
    "tabela_descritiva.columns = ['Classe', 'Quantidade']\n",
    "\n",
    "#Criando a coluna da tabela quantidade de imoveis por classe\n",
    "total_imoveis = tabela_descritiva['Quantidade'].sum()\n",
    "\n",
    "# Formatando a coluna 'Porcentagem' com casa decimal e o simbolo %\n",
    "tabela_descritiva['Porcentagem'] = tabela_descritiva['Quantidade'].apply(lambda x: f'{(x / tabela_descritiva[\"Quantidade\"].sum()) * 100:.2f}%')\n",
    "\"\"\"\n",
    "pply - aplica função a cada elemento da coluna\n",
    "No lambda o x representa cada valor individual da coluna quantidade(coluna da tabela e não do dataframe)\n",
    " (x / tabela_descritiva[\"Quantidade\"].sum()) * 100 calcula a porcentagem para cada valor \"x\", dividindo o valor de \"x\" pelo total da nossa coluna Quantidade e multiplicamos por 100 para termos o percentual.\n",
    ":.2f estamos limitando a 2 casa decimal - originalment eu iria colocar 1 casa decimal, porem a classe média alta fica em 0,0% tendo 4 imoveis e ficaria um pouco estranho.\n",
    " % colocamos o simbolo %\n",
    "\"\"\"\n",
    "\n",
    "print(tabela_descritiva)"
   ]
  },
  {
   "cell_type": "code",
   "execution_count": null,
   "id": "4903c126",
   "metadata": {},
   "outputs": [],
   "source": [
    "sum((dados[\"Bairro\"] == \"Vila Mariana\"))"
   ]
  },
  {
   "cell_type": "code",
   "execution_count": null,
   "id": "66041b8e",
   "metadata": {},
   "outputs": [],
   "source": [
    "ten_imoveis_vila = (dados[\"Bairro\"] == \"Vila Mariana\")\n",
    "ten_imoveis_vila"
   ]
  },
  {
   "cell_type": "code",
   "execution_count": null,
   "id": "36d1042c",
   "metadata": {},
   "outputs": [],
   "source": [
    "imoveis_vila_mariana = dados[ten_imoveis_vila]\n",
    "imoveis_vila_mariana"
   ]
  },
  {
   "cell_type": "code",
   "execution_count": null,
   "id": "d3d5a1d0",
   "metadata": {},
   "outputs": [],
   "source": [
    "imoveis_vila_mariana[\"Metragem\"].mean()"
   ]
  },
  {
   "cell_type": "code",
   "execution_count": 149,
   "id": "0e73794d",
   "metadata": {},
   "outputs": [
    {
     "name": "stdout",
     "output_type": "stream",
     "text": [
      "Bairro\n",
      "Aclimação            253.056818\n",
      "Alto da Boa Vista    418.875000\n",
      "Alto da Lapa         294.337209\n",
      "Alto da Mooca        270.050000\n",
      "Alto de Pinheiros    433.444988\n",
      "                        ...    \n",
      "Vila Água Funda      152.200000\n",
      "Água Branca          191.000000\n",
      "Água Fria            165.416667\n",
      "Água Funda           139.000000\n",
      "Água Rasa            340.250000\n",
      "Name: Metragem, Length: 701, dtype: float64\n"
     ]
    }
   ],
   "source": [
    "# 1 - Realizar a média da metragem para cada um dos bairros. (Proposto pelo Paulo)\n",
    "media_por_bairro = dados.groupby('Bairro')['Metragem'].mean()\n",
    "\n",
    "print(media_por_bairro)"
   ]
  },
  {
   "cell_type": "code",
   "execution_count": null,
   "id": "581844b5",
   "metadata": {},
   "outputs": [],
   "source": [
    "# 2 - Duas formas de selecionar os dados por bairro (consultar os métodos na documentação do Pandas). (Proposto pelo Thiago)\n",
    "#dados_bairro_a = dados.loc[dados[\"Bairro\"] == \"vila_mariana\"]\n",
    "primeiro_metodo_dados_bairro = dados.loc[dados[\"Bairro\"] == \"Vila Mariana\"]\n",
    "\n",
    "# Exibir os resultados\n",
    "print(primeiro_metodo_dados_bairro.head(5))"
   ]
  },
  {
   "cell_type": "code",
   "execution_count": null,
   "id": "86ebae54",
   "metadata": {},
   "outputs": [],
   "source": [
    "# 2 - Duas formas de selecionar os dados por bairro (consultar os métodos na documentação do Pandas). (Proposto pelo Thiago)\n",
    "segundo_metodo_dados_bairro = dados.query(\"Bairro == 'Vila Mariana'\")\n",
    "\n",
    "\n",
    "# Exibir os resultados\n",
    "print(segundo_metodo_dados_bairro.head(5))"
   ]
  },
  {
   "cell_type": "code",
   "execution_count": null,
   "id": "bcae364a",
   "metadata": {},
   "outputs": [],
   "source": [
    "# 3 - Explorar alguns gráficos na documentação e aplicar nas demais colunas do DF, assim como tentar colocar alguma conclusão. (Proposto pelo Thiago)\n",
    "from pandas.plotting import radviz\n",
    "\n",
    "\n",
    "n_imoveis_bairro = dados[\"Bairro\"].value_counts()\n",
    "ax = n_imoveis_bairro.head(10).plot.barh()\n",
    "ax.set_xlabel('Quantidade de Imóveis')\n",
    "ax.set_title('Imóveis Disponíveis por Bairro')\n",
    "\n",
    "\n"
   ]
  },
  {
   "cell_type": "code",
   "execution_count": null,
   "id": "96390a2a",
   "metadata": {},
   "outputs": [],
   "source": []
  },
  {
   "cell_type": "code",
   "execution_count": null,
   "id": "903bdd8d",
   "metadata": {},
   "outputs": [],
   "source": [
    "# Removendo valores nulos em 'Área'\n",
    "dados_filtrados = dados.dropna(subset=['Metragem'])\n",
    "\n",
    "# Removendo valores extremos para melhor visualização\n",
    "dados_filtrados = dados_filtrados[dados_filtrados['Metragem'] < 1000]\n",
    "\n",
    "# Plotando o histograma\n",
    "dados_filtrados['Metragem'].plot.hist(bins=20, edgecolor='black')\n",
    "plt.xlabel('Área')\n",
    "plt.ylabel('Frequência')\n",
    "plt.title('Distribuição da Área dos Imóveis')\n",
    "plt.show()\n"
   ]
  },
  {
   "cell_type": "code",
   "execution_count": null,
   "id": "4a13eb79",
   "metadata": {},
   "outputs": [],
   "source": [
    "valor_medio_bairro = dados.groupby('Bairro')['Valor'].mean()\n",
    "valor_medio_bairro.head(5).sort_values(ascending=True).plot.line()\n",
    "\n"
   ]
  },
  {
   "cell_type": "code",
   "execution_count": null,
   "id": "ad929723",
   "metadata": {},
   "outputs": [],
   "source": [
    "n_imoveis_bairro = dados[\"Bairro\"].value_counts()\n",
    "n_imoveis_bairro.head(10).plot.bar()"
   ]
  }
 ],
 "metadata": {
  "kernelspec": {
   "display_name": "Python 3 (ipykernel)",
   "language": "python",
   "name": "python3"
  },
  "language_info": {
   "codemirror_mode": {
    "name": "ipython",
    "version": 3
   },
   "file_extension": ".py",
   "mimetype": "text/x-python",
   "name": "python",
   "nbconvert_exporter": "python",
   "pygments_lexer": "ipython3",
   "version": "3.10.13"
  }
 },
 "nbformat": 4,
 "nbformat_minor": 5
}
